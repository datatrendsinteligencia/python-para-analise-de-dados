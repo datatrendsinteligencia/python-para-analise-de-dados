{
  "nbformat": 4,
  "nbformat_minor": 0,
  "metadata": {
    "colab": {
      "name": "ConsolidarJSON_SerializarDados_ExportarCSV.ipynb",
      "provenance": []
    },
    "kernelspec": {
      "name": "python3",
      "display_name": "Python 3"
    },
    "language_info": {
      "name": "python"
    }
  },
  "cells": [
    {
      "cell_type": "markdown",
      "metadata": {
        "id": "4C_ODqtv0Oem"
      },
      "source": [
        "## **Olá! Neste script você aprenderá como:**\n",
        "1.   **Consolidar** vários arquivos **json** em um único arquivo;\n",
        "2.   **Serializar** dados de dicionários;\n",
        "3.   Gerar arquivo no formato **csv**.\n",
        "\n",
        "Bons estudos!"
      ]
    },
    {
      "cell_type": "markdown",
      "metadata": {
        "id": "qBmnt0xHHpTb"
      },
      "source": [
        "# Importar bibliotecas utilizadas"
      ]
    },
    {
      "cell_type": "code",
      "metadata": {
        "id": "LS-PlIn8yB0y"
      },
      "source": [
        "from glob import glob \n",
        "import pandas as pd\n",
        "import csv"
      ],
      "execution_count": null,
      "outputs": []
    },
    {
      "cell_type": "markdown",
      "metadata": {
        "id": "0jVzrzYDHvY9"
      },
      "source": [
        "# Obter os arquivos json e consolidar em um único arquivo"
      ]
    },
    {
      "cell_type": "code",
      "metadata": {
        "id": "UeCQUI71xz4v"
      },
      "source": [
        "# Gerar o arquivo consolidado e armazenar os dados de todos os arquivos json \n",
        "with open('arquivoconsolidado.json', 'w') as f:\n",
        "    for arquivos in glob('/content/drive/MyDrive/0_data_trends/json/*.json'): \n",
        "        with open(arquivos) as arq:\n",
        "            f.write(str(arq.read()))\n",
        "            f.write('\\n')"
      ],
      "execution_count": null,
      "outputs": []
    },
    {
      "cell_type": "code",
      "metadata": {
        "id": "VvNqg8lYyf9y"
      },
      "source": [
        "df = pd.read_json('arquivoconsolidado.json', lines=True) # Armazenar os dados do arquivo consolidado no DataFrame"
      ],
      "execution_count": null,
      "outputs": []
    },
    {
      "cell_type": "code",
      "metadata": {
        "colab": {
          "base_uri": "https://localhost:8080/",
          "height": 267
        },
        "id": "BXxlbkkL1BCC",
        "outputId": "6108e5d5-16f3-4ec1-c2a0-d230f87c08e7"
      },
      "source": [
        "df.head(2) # Visualizar as 2 primeiras linhas"
      ],
      "execution_count": null,
      "outputs": [
        {
          "output_type": "execute_result",
          "data": {
            "text/html": [
              "<div>\n",
              "<style scoped>\n",
              "    .dataframe tbody tr th:only-of-type {\n",
              "        vertical-align: middle;\n",
              "    }\n",
              "\n",
              "    .dataframe tbody tr th {\n",
              "        vertical-align: top;\n",
              "    }\n",
              "\n",
              "    .dataframe thead th {\n",
              "        text-align: right;\n",
              "    }\n",
              "</style>\n",
              "<table border=\"1\" class=\"dataframe\">\n",
              "  <thead>\n",
              "    <tr style=\"text-align: right;\">\n",
              "      <th></th>\n",
              "      <th>codigo</th>\n",
              "      <th>descricao</th>\n",
              "      <th>data</th>\n",
              "      <th>ticket</th>\n",
              "      <th>mensal</th>\n",
              "      <th>grupo</th>\n",
              "      <th>terminal</th>\n",
              "      <th>setor</th>\n",
              "      <th>tipoVeiculo</th>\n",
              "      <th>tipoServico</th>\n",
              "      <th>_type</th>\n",
              "      <th>_garage</th>\n",
              "      <th>placa</th>\n",
              "    </tr>\n",
              "  </thead>\n",
              "  <tbody>\n",
              "    <tr>\n",
              "      <th>0</th>\n",
              "      <td>119</td>\n",
              "      <td>CREDENCIADO</td>\n",
              "      <td>2020-06-01 06:48:53</td>\n",
              "      <td>62</td>\n",
              "      <td>True</td>\n",
              "      <td>{'descricao': 'ADMINISTRAÇÃO'}</td>\n",
              "      <td>{'codigo': 15, 'descricao': 'TS G4 2', 'tipo':...</td>\n",
              "      <td>{'codigo': 4, 'descricao': 'G4'}</td>\n",
              "      <td>{'codigo': 0, 'descricao': 'AUTOMOVEL'}</td>\n",
              "      <td>{'codigo': 0, 'descricao': 'COMUM'}</td>\n",
              "      <td>carro</td>\n",
              "      <td>1</td>\n",
              "      <td>NaN</td>\n",
              "    </tr>\n",
              "    <tr>\n",
              "      <th>1</th>\n",
              "      <td>121</td>\n",
              "      <td>CREDENCIADO</td>\n",
              "      <td>2020-06-01 07:11:34</td>\n",
              "      <td>817</td>\n",
              "      <td>True</td>\n",
              "      <td>{'descricao': 'MULTIPLAN'}</td>\n",
              "      <td>{'codigo': 16, 'descricao': 'TS G5', 'tipo': '...</td>\n",
              "      <td>{'codigo': 5, 'descricao': 'G5'}</td>\n",
              "      <td>{'codigo': 0, 'descricao': 'AUTOMOVEL'}</td>\n",
              "      <td>{'codigo': 0, 'descricao': 'COMUM'}</td>\n",
              "      <td>carro</td>\n",
              "      <td>1</td>\n",
              "      <td>NaN</td>\n",
              "    </tr>\n",
              "  </tbody>\n",
              "</table>\n",
              "</div>"
            ],
            "text/plain": [
              "   codigo    descricao                 data  ...  _type  _garage placa\n",
              "0     119  CREDENCIADO  2020-06-01 06:48:53  ...  carro        1   NaN\n",
              "1     121  CREDENCIADO  2020-06-01 07:11:34  ...  carro        1   NaN\n",
              "\n",
              "[2 rows x 13 columns]"
            ]
          },
          "metadata": {
            "tags": []
          },
          "execution_count": 4
        }
      ]
    },
    {
      "cell_type": "markdown",
      "metadata": {
        "id": "cq0WW_aBIitx"
      },
      "source": [
        "# Serializar os dados das colunas `grupo`\t`terminal`\t`setor`\t`tipoVeiculo`\t`tipoServico`"
      ]
    },
    {
      "cell_type": "code",
      "metadata": {
        "id": "B2xE948qAaeP"
      },
      "source": [
        "df['tipoVeiculo'] = [lista['descricao'] for lista in df['tipoVeiculo']]"
      ],
      "execution_count": null,
      "outputs": []
    },
    {
      "cell_type": "code",
      "metadata": {
        "id": "aOSzVzpKM1tk"
      },
      "source": [
        "df['terminal'] = [lista['codigo'] for lista in df['terminal']]"
      ],
      "execution_count": null,
      "outputs": []
    },
    {
      "cell_type": "code",
      "metadata": {
        "id": "rdJoHxMkNw1d"
      },
      "source": [
        "df['grupo'] = df['grupo'][0]['descricao']"
      ],
      "execution_count": null,
      "outputs": []
    },
    {
      "cell_type": "code",
      "metadata": {
        "id": "UssIkhTsN-yQ"
      },
      "source": [
        "df['setor'] = df['setor'][0]['descricao']"
      ],
      "execution_count": null,
      "outputs": []
    },
    {
      "cell_type": "code",
      "metadata": {
        "id": "krEaq1VqOjvP"
      },
      "source": [
        "df['tipoServico'] = df['tipoServico'][0]['descricao']"
      ],
      "execution_count": null,
      "outputs": []
    },
    {
      "cell_type": "code",
      "metadata": {
        "colab": {
          "base_uri": "https://localhost:8080/",
          "height": 199
        },
        "id": "9kBoKOXNOpsU",
        "outputId": "492fb70f-5020-4d73-e211-6621f033ff08"
      },
      "source": [
        "df.head(2)"
      ],
      "execution_count": null,
      "outputs": [
        {
          "output_type": "execute_result",
          "data": {
            "text/html": [
              "<div>\n",
              "<style scoped>\n",
              "    .dataframe tbody tr th:only-of-type {\n",
              "        vertical-align: middle;\n",
              "    }\n",
              "\n",
              "    .dataframe tbody tr th {\n",
              "        vertical-align: top;\n",
              "    }\n",
              "\n",
              "    .dataframe thead th {\n",
              "        text-align: right;\n",
              "    }\n",
              "</style>\n",
              "<table border=\"1\" class=\"dataframe\">\n",
              "  <thead>\n",
              "    <tr style=\"text-align: right;\">\n",
              "      <th></th>\n",
              "      <th>codigo</th>\n",
              "      <th>descricao</th>\n",
              "      <th>data</th>\n",
              "      <th>ticket</th>\n",
              "      <th>mensal</th>\n",
              "      <th>grupo</th>\n",
              "      <th>terminal</th>\n",
              "      <th>setor</th>\n",
              "      <th>tipoVeiculo</th>\n",
              "      <th>tipoServico</th>\n",
              "      <th>_type</th>\n",
              "      <th>_garage</th>\n",
              "      <th>placa</th>\n",
              "    </tr>\n",
              "  </thead>\n",
              "  <tbody>\n",
              "    <tr>\n",
              "      <th>0</th>\n",
              "      <td>119</td>\n",
              "      <td>CREDENCIADO</td>\n",
              "      <td>2020-06-01 06:48:53</td>\n",
              "      <td>62</td>\n",
              "      <td>True</td>\n",
              "      <td>ADMINISTRAÇÃO</td>\n",
              "      <td>15</td>\n",
              "      <td>G4</td>\n",
              "      <td>AUTOMOVEL</td>\n",
              "      <td>COMUM</td>\n",
              "      <td>carro</td>\n",
              "      <td>1</td>\n",
              "      <td>NaN</td>\n",
              "    </tr>\n",
              "    <tr>\n",
              "      <th>1</th>\n",
              "      <td>121</td>\n",
              "      <td>CREDENCIADO</td>\n",
              "      <td>2020-06-01 07:11:34</td>\n",
              "      <td>817</td>\n",
              "      <td>True</td>\n",
              "      <td>ADMINISTRAÇÃO</td>\n",
              "      <td>16</td>\n",
              "      <td>G4</td>\n",
              "      <td>AUTOMOVEL</td>\n",
              "      <td>COMUM</td>\n",
              "      <td>carro</td>\n",
              "      <td>1</td>\n",
              "      <td>NaN</td>\n",
              "    </tr>\n",
              "  </tbody>\n",
              "</table>\n",
              "</div>"
            ],
            "text/plain": [
              "   codigo    descricao                 data  ...  _type  _garage placa\n",
              "0     119  CREDENCIADO  2020-06-01 06:48:53  ...  carro        1   NaN\n",
              "1     121  CREDENCIADO  2020-06-01 07:11:34  ...  carro        1   NaN\n",
              "\n",
              "[2 rows x 13 columns]"
            ]
          },
          "metadata": {
            "tags": []
          },
          "execution_count": 10
        }
      ]
    },
    {
      "cell_type": "markdown",
      "metadata": {
        "id": "swLmntWlKOM4"
      },
      "source": [
        "# Gerar o arquivo csv com os dados consolidados"
      ]
    },
    {
      "cell_type": "code",
      "metadata": {
        "id": "qD07SFDb35xV"
      },
      "source": [
        "dfconsolidado = pd.DataFrame.from_dict(df) # Criar DataFrame e armazenar os dados do json consolidado"
      ],
      "execution_count": null,
      "outputs": []
    },
    {
      "cell_type": "code",
      "metadata": {
        "colab": {
          "base_uri": "https://localhost:8080/",
          "height": 199
        },
        "id": "i3qGPwxR8e3r",
        "outputId": "c639590c-bdfb-4433-be36-dc2b76ecf836"
      },
      "source": [
        "dfconsolidado.head(2) # Visualizar apenas as 2 primeiras linhas"
      ],
      "execution_count": null,
      "outputs": [
        {
          "output_type": "execute_result",
          "data": {
            "text/html": [
              "<div>\n",
              "<style scoped>\n",
              "    .dataframe tbody tr th:only-of-type {\n",
              "        vertical-align: middle;\n",
              "    }\n",
              "\n",
              "    .dataframe tbody tr th {\n",
              "        vertical-align: top;\n",
              "    }\n",
              "\n",
              "    .dataframe thead th {\n",
              "        text-align: right;\n",
              "    }\n",
              "</style>\n",
              "<table border=\"1\" class=\"dataframe\">\n",
              "  <thead>\n",
              "    <tr style=\"text-align: right;\">\n",
              "      <th></th>\n",
              "      <th>codigo</th>\n",
              "      <th>descricao</th>\n",
              "      <th>data</th>\n",
              "      <th>ticket</th>\n",
              "      <th>mensal</th>\n",
              "      <th>grupo</th>\n",
              "      <th>terminal</th>\n",
              "      <th>setor</th>\n",
              "      <th>tipoVeiculo</th>\n",
              "      <th>tipoServico</th>\n",
              "      <th>_type</th>\n",
              "      <th>_garage</th>\n",
              "      <th>placa</th>\n",
              "    </tr>\n",
              "  </thead>\n",
              "  <tbody>\n",
              "    <tr>\n",
              "      <th>0</th>\n",
              "      <td>119</td>\n",
              "      <td>CREDENCIADO</td>\n",
              "      <td>2020-06-01 06:48:53</td>\n",
              "      <td>62</td>\n",
              "      <td>True</td>\n",
              "      <td>ADMINISTRAÇÃO</td>\n",
              "      <td>15</td>\n",
              "      <td>G4</td>\n",
              "      <td>AUTOMOVEL</td>\n",
              "      <td>COMUM</td>\n",
              "      <td>carro</td>\n",
              "      <td>1</td>\n",
              "      <td>NaN</td>\n",
              "    </tr>\n",
              "    <tr>\n",
              "      <th>1</th>\n",
              "      <td>121</td>\n",
              "      <td>CREDENCIADO</td>\n",
              "      <td>2020-06-01 07:11:34</td>\n",
              "      <td>817</td>\n",
              "      <td>True</td>\n",
              "      <td>ADMINISTRAÇÃO</td>\n",
              "      <td>16</td>\n",
              "      <td>G4</td>\n",
              "      <td>AUTOMOVEL</td>\n",
              "      <td>COMUM</td>\n",
              "      <td>carro</td>\n",
              "      <td>1</td>\n",
              "      <td>NaN</td>\n",
              "    </tr>\n",
              "  </tbody>\n",
              "</table>\n",
              "</div>"
            ],
            "text/plain": [
              "   codigo    descricao                 data  ...  _type  _garage placa\n",
              "0     119  CREDENCIADO  2020-06-01 06:48:53  ...  carro        1   NaN\n",
              "1     121  CREDENCIADO  2020-06-01 07:11:34  ...  carro        1   NaN\n",
              "\n",
              "[2 rows x 13 columns]"
            ]
          },
          "metadata": {
            "tags": []
          },
          "execution_count": 12
        }
      ]
    },
    {
      "cell_type": "code",
      "metadata": {
        "id": "uR4_hzyy4HT4"
      },
      "source": [
        "dfconsolidado.to_csv(\"consolidado.csv\", index=False,encoding='iso-8859-1') # Gerar o arquivo csv com os dados consolidados"
      ],
      "execution_count": null,
      "outputs": []
    },
    {
      "cell_type": "code",
      "metadata": {
        "id": "hHiU3_Pk4AF1"
      },
      "source": [
        "dfconsolidado_csv = pd.read_csv(\"consolidado.csv\",encoding='iso-8859-1') # Armazenar os dados do arquivo csv no DataFrame"
      ],
      "execution_count": null,
      "outputs": []
    },
    {
      "cell_type": "code",
      "metadata": {
        "colab": {
          "base_uri": "https://localhost:8080/",
          "height": 199
        },
        "id": "q7-WNAgy-r_x",
        "outputId": "c4e3fb8e-3278-49e2-e07c-014de8a97252"
      },
      "source": [
        "dfconsolidado_csv.head(2) # Exibição das 2 primeiras linhas do DataFrame"
      ],
      "execution_count": null,
      "outputs": [
        {
          "output_type": "execute_result",
          "data": {
            "text/html": [
              "<div>\n",
              "<style scoped>\n",
              "    .dataframe tbody tr th:only-of-type {\n",
              "        vertical-align: middle;\n",
              "    }\n",
              "\n",
              "    .dataframe tbody tr th {\n",
              "        vertical-align: top;\n",
              "    }\n",
              "\n",
              "    .dataframe thead th {\n",
              "        text-align: right;\n",
              "    }\n",
              "</style>\n",
              "<table border=\"1\" class=\"dataframe\">\n",
              "  <thead>\n",
              "    <tr style=\"text-align: right;\">\n",
              "      <th></th>\n",
              "      <th>codigo</th>\n",
              "      <th>descricao</th>\n",
              "      <th>data</th>\n",
              "      <th>ticket</th>\n",
              "      <th>mensal</th>\n",
              "      <th>grupo</th>\n",
              "      <th>terminal</th>\n",
              "      <th>setor</th>\n",
              "      <th>tipoVeiculo</th>\n",
              "      <th>tipoServico</th>\n",
              "      <th>_type</th>\n",
              "      <th>_garage</th>\n",
              "      <th>placa</th>\n",
              "    </tr>\n",
              "  </thead>\n",
              "  <tbody>\n",
              "    <tr>\n",
              "      <th>0</th>\n",
              "      <td>119</td>\n",
              "      <td>CREDENCIADO</td>\n",
              "      <td>2020-06-01 06:48:53</td>\n",
              "      <td>62</td>\n",
              "      <td>True</td>\n",
              "      <td>ADMINISTRAÇÃO</td>\n",
              "      <td>15</td>\n",
              "      <td>G4</td>\n",
              "      <td>AUTOMOVEL</td>\n",
              "      <td>COMUM</td>\n",
              "      <td>carro</td>\n",
              "      <td>1</td>\n",
              "      <td>NaN</td>\n",
              "    </tr>\n",
              "    <tr>\n",
              "      <th>1</th>\n",
              "      <td>121</td>\n",
              "      <td>CREDENCIADO</td>\n",
              "      <td>2020-06-01 07:11:34</td>\n",
              "      <td>817</td>\n",
              "      <td>True</td>\n",
              "      <td>ADMINISTRAÇÃO</td>\n",
              "      <td>16</td>\n",
              "      <td>G4</td>\n",
              "      <td>AUTOMOVEL</td>\n",
              "      <td>COMUM</td>\n",
              "      <td>carro</td>\n",
              "      <td>1</td>\n",
              "      <td>NaN</td>\n",
              "    </tr>\n",
              "  </tbody>\n",
              "</table>\n",
              "</div>"
            ],
            "text/plain": [
              "   codigo    descricao                 data  ...  _type  _garage placa\n",
              "0     119  CREDENCIADO  2020-06-01 06:48:53  ...  carro        1   NaN\n",
              "1     121  CREDENCIADO  2020-06-01 07:11:34  ...  carro        1   NaN\n",
              "\n",
              "[2 rows x 13 columns]"
            ]
          },
          "metadata": {
            "tags": []
          },
          "execution_count": 15
        }
      ]
    }
  ]
}